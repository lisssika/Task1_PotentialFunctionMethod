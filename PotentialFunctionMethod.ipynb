{
 "cells": [
  {
   "cell_type": "code",
   "execution_count": 29,
   "metadata": {
    "collapsed": true,
    "pycharm": {
     "name": "#%%\n"
    }
   },
   "outputs": [
    {
     "name": "stdout",
     "output_type": "stream",
     "text": [
      "The autoreload extension is already loaded. To reload it, use:\n",
      "  %reload_ext autoreload\n"
     ]
    }
   ],
   "source": [
    "%load_ext autoreload\n",
    "%autoreload 2\n",
    "\n",
    "from sklearn import datasets\n",
    "from sklearn.model_selection import train_test_split\n",
    "from sklearn.metrics import accuracy_score\n",
    "import numpy as np"
   ]
  },
  {
   "cell_type": "code",
   "execution_count": 30,
   "outputs": [],
   "source": [
    "iris = datasets.load_iris()\n",
    "iris_X, iris_y = datasets.load_iris(return_X_y = True)\n",
    "x_train, x_test, y_train, y_test = train_test_split(iris_X, iris_y)"
   ],
   "metadata": {
    "collapsed": false,
    "pycharm": {
     "name": "#%%\n"
    }
   }
  },
  {
   "cell_type": "code",
   "execution_count": 31,
   "outputs": [],
   "source": [
    "import metrics as met\n",
    "gamma = np.zeros(y_train.size)\n",
    "\n",
    "i = 100\n",
    "classes = np.unique(y_train)\n",
    "while i >0:\n",
    "    i = i-1\n",
    "    n = 0\n",
    "    for  x_sample, y_sample in zip(x_train, y_train):\n",
    "        a = met.a_what_class(x_sample, x_train, y_train, gamma, classes)\n",
    "        if (a!= y_sample):\n",
    "            gamma[n] = gamma[n]+1\n",
    "        n=n+1\n",
    "mask = gamma>0\n",
    "unused = gamma==0\n",
    "\n",
    "#print(\"x before: \", x_train)\n",
    "x_train = x_train[mask] #применить к gamma y_train\n",
    "y_train = y_train[mask]\n",
    "gamma = gamma[mask]"
   ],
   "metadata": {
    "collapsed": false,
    "pycharm": {
     "name": "#%%\n"
    }
   }
  },
  {
   "cell_type": "code",
   "execution_count": 32,
   "outputs": [
    {
     "name": "stdout",
     "output_type": "stream",
     "text": [
      "\n",
      "accuracy score in test:  0.9736842105263158\n"
     ]
    }
   ],
   "source": [
    "n = 0\n",
    "y_pred = np.zeros(y_test.size)\n",
    "for n in range(x_test.shape[0]  ):\n",
    "        y_pred[n] = met.a_what_class(x_test[n], x_train, y_train, gamma, classes)\n",
    "acc_test = accuracy_score(y_test, y_pred)\n",
    "print('\\naccuracy score in test: ', acc_test)"
   ],
   "metadata": {
    "collapsed": false,
    "pycharm": {
     "name": "#%%\n"
    }
   }
  },
  {
   "cell_type": "code",
   "execution_count": 33,
   "outputs": [
    {
     "name": "stdout",
     "output_type": "stream",
     "text": [
      "accuracy score in train:  1.0\n"
     ]
    }
   ],
   "source": [
    "n = 0\n",
    "y_pred_train = np.ones(y_train.size)\n",
    "for n in range(x_train.shape[0] ):\n",
    "       y_pred_train[n] = met.a_what_class(x_train[n], x_train, y_train, gamma, classes)\n",
    "acc_train = accuracy_score(y_train, y_pred_train)\n",
    "print('accuracy score in train: ', acc_train)\n"
   ],
   "metadata": {
    "collapsed": false,
    "pycharm": {
     "name": "#%%\n"
    }
   }
  }
 ],
 "metadata": {
  "kernelspec": {
   "display_name": "Python 3",
   "language": "python",
   "name": "python3"
  },
  "language_info": {
   "codemirror_mode": {
    "name": "ipython",
    "version": 2
   },
   "file_extension": ".py",
   "mimetype": "text/x-python",
   "name": "python",
   "nbconvert_exporter": "python",
   "pygments_lexer": "ipython2",
   "version": "2.7.6"
  }
 },
 "nbformat": 4,
 "nbformat_minor": 0
}